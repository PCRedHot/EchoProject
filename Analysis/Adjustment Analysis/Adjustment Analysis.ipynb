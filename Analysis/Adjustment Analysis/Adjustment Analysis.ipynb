{
 "cells": [
  {
   "cell_type": "code",
   "execution_count": 1,
   "id": "1c59d147",
   "metadata": {},
   "outputs": [],
   "source": [
    "import os, nrrd, numpy as np\n",
    "import matplotlib.pyplot as plt"
   ]
  },
  {
   "cell_type": "code",
   "execution_count": 2,
   "id": "b4b889d8",
   "metadata": {},
   "outputs": [],
   "source": [
    "NRRD_FOLDER_PATH = 'E:/Datasets/Echocardio/CU Adjusted'"
   ]
  },
  {
   "cell_type": "code",
   "execution_count": 6,
   "id": "8375d168",
   "metadata": {},
   "outputs": [],
   "source": [
    "OUTPUT_GRAPH = False\n",
    "OUTPUT_GRAPH_PATH = None"
   ]
  },
  {
   "cell_type": "code",
   "execution_count": 3,
   "id": "e0028bb3",
   "metadata": {},
   "outputs": [],
   "source": [
    "nrrd_paths = []\n",
    "for root, dirs, files in os.walk(NRRD_FOLDER_PATH, topdown=False):\n",
    "    for name in files:\n",
    "        nrrd_paths.append(os.path.join(root, name))"
   ]
  },
  {
   "cell_type": "code",
   "execution_count": 10,
   "id": "a6541a2d",
   "metadata": {},
   "outputs": [],
   "source": [
    "sizes = np.empty((len(nrrd_paths), 4), dtype=int)\n",
    "\n",
    "for i, nrrd_path in enumerate(nrrd_paths):\n",
    "    header = nrrd.read_header(nrrd_path)\n",
    "    sizes[i] = np.array(header['sizes'])\n",
    "\n",
    "sizes = np.flip(sizes, 1)"
   ]
  },
  {
   "cell_type": "code",
   "execution_count": 15,
   "id": "e8242df6",
   "metadata": {},
   "outputs": [
    {
     "data": {
      "image/png": "[encoded data removed]",
      "text/plain": [
       "<Figure size 720x504 with 1 Axes>"
      ]
     },
     "metadata": {
      "needs_background": "light"
     },
     "output_type": "display_data"
    }
   ],
   "source": [
    "fig = plt.figure(figsize =(10, 7))\n",
    " \n",
    "ax = fig.add_axes([0, 0, 1, 1])\n",
    "bp = ax.boxplot(sizes)\n",
    "ax.set_xticklabels(['x', 'y', 'z', 't'])\n",
    "plt.show()"
   ]
  },
  {
   "cell_type": "code",
   "execution_count": 20,
   "id": "300c2160",
   "metadata": {},
   "outputs": [
    {
     "name": "stdout",
     "output_type": "stream",
     "text": [
      "Max: [222 314 300 122]\n",
      "Min: [141 170 181  11]\n",
      "Mean: [170.38235294 218.80882353 218.48529412  50.98529412]\n",
      "SD: [18.89446652 33.36705726 24.84983882 22.75928553]\n"
     ]
    }
   ],
   "source": [
    "print('Max:', np.max(sizes, axis=0))\n",
    "print('Min:', np.min(sizes, axis=0))\n",
    "print('Mean:', np.mean(sizes, axis=0))\n",
    "print('SD:', np.std(sizes, axis=0))"
   ]
  },
  {
   "cell_type": "code",
   "execution_count": null,
   "id": "9947d814",
   "metadata": {},
   "outputs": [],
   "source": []
  }
 ],
 "metadata": {
  "kernelspec": {
   "display_name": "Python 3 (ipykernel)",
   "language": "python",
   "name": "python3"
  },
  "language_info": {
   "codemirror_mode": {
    "name": "ipython",
    "version": 3
   },
   "file_extension": ".py",
   "mimetype": "text/x-python",
   "name": "python",
   "nbconvert_exporter": "python",
   "pygments_lexer": "ipython3",
   "version": "3.8.3"
  }
 },
 "nbformat": 4,
 "nbformat_minor": 5
}
